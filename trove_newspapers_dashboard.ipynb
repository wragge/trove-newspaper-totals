{
 "cells": [
  {
   "cell_type": "markdown",
   "id": "28476604-8634-4ba0-83aa-62b020918fb2",
   "metadata": {},
   "source": [
    "# Trove newspapers: data dashboard\n",
    "\n",
    "Trove's collection of digitised newspapers is always changing – new articles and newspapers are being added by the NLA, while Trove users are busy correcting OCRd text and adding tags and comments. The search you run today might produce different results than the same query did a month ago, a year ago, or ten years ago. Researchers need to understand how these changes affect the queries they make, the results they find, and the arguments they construct. This dashboard helps researchers understand the context of their queries by presenting a snapshot of Trove's digitised newspapers, based on [weekly data harvests](https://github.com/wragge/trove-newspaper-totals). It shows Trove's current make up from a number of angles, as well as highlighting recent changes. It is updated every Sunday.\n",
    "\n",
    "<ul class=\"browser-default\">\n",
    "    <li><a href=\"#Total-articles-and-user-activity\">Total articles and user activity</a></li>\n",
    "    <li><a href=\"#Total-articles-by-publication-year\">Total articles by publication year</a></li>\n",
    "    <li><a href=\"#Total-articles-by-publication-year-and-state\">Total articles by publication year and state</a></li>\n",
    "    <li><a href=\"#Article-categories\">Article categories</a></li>\n",
    "    <li><a href=\"#Newspaper-titles\">Newspaper titles</a></li>\n",
    "    <li><a href=\"#Total-articles-by-publication-state\">Total articles by publication state</a></li>\n",
    "    <li><a href=\"#Significant-events\">Significant events</a></li>\n",
    "</ul>"
   ]
  },
  {
   "cell_type": "code",
   "execution_count": null,
   "id": "deb329e9-119b-45cc-818e-440b5b000e96",
   "metadata": {},
   "outputs": [],
   "source": [
    "import git\n",
    "import time\n",
    "import pandas as pd\n",
    "from datetime import datetime\n",
    "from io import BytesIO\n",
    "import altair as alt\n",
    "from IPython.display import display, HTML"
   ]
  },
  {
   "cell_type": "code",
   "execution_count": null,
   "id": "bddc5c8b-e638-4073-8d05-6dd599216234",
   "metadata": {},
   "outputs": [],
   "source": [
    "repo = git.Repo()\n",
    "\n",
    "def get_versions(path, dates=[]):\n",
    "    revlist = (\n",
    "        (commit, (commit.tree / path).data_stream.read())\n",
    "        for commit in repo.iter_commits(paths=path)\n",
    "    )\n",
    "    totals = []\n",
    "    for commit, file in revlist:\n",
    "        commit_date = datetime.fromtimestamp(commit.committed_date)\n",
    "        df = pd.read_csv(BytesIO(file), parse_dates=dates)\n",
    "        #df['date'] = commit_date\n",
    "        #df = df.set_index('harvest_type').T\n",
    "        #df = df.rename_axis(None, axis=1)\n",
    "        # df.replace({'all': 'All articles', 'has:corrections': 'Articles with corrections', 'has:tags': 'Articles with tags', 'has:comments': 'Articles with comments'}, inplace=True)\n",
    "        df['date'] = commit_date\n",
    "        totals.append(df)\n",
    "    return pd.concat(totals, ignore_index=True).sort_values('date')\n",
    "\n",
    "def dhtml(string):\n",
    "    display(HTML(string))\n",
    "    \n",
    "def make_clickable(val):\n",
    "    return f'<a target=\"_blank\" href=\"{val}\">{val}</a>'\n",
    "\n",
    "def left_align_columns(df):\n",
    "    df = df.set_table_styles([{'selector': 'th', 'props': 'text-align:left'}, {'selector': '', 'props': 'table-layout:auto !important;'} ])\n",
    "    return df.set_properties(**{'text-align': 'left'})\n",
    "\n",
    "def left_align_headers(df):\n",
    "    return df.set_table_styles([{'selector': '.row_heading', 'props': 'text-align:left'}, {'selector': 'table', 'props': 'table-layout:auto !important;'} ])\n",
    "\n",
    "def current_total(df, col='harvest_type', val='All articles'):\n",
    "    return df.loc[df[col] == val].iloc[-1]['total']\n",
    "\n",
    "# Change in the last week\n",
    "def change_in_total(df, col='harvest_type', val='All articles', period=1):\n",
    "    return df.loc[df[col] == val]['total'].diff(periods=period).iloc[-1]\n",
    "\n",
    "def harvest_date(timestamp):\n",
    "    return pd.Timestamp(timestamp).strftime(\"%d %b %Y\")"
   ]
  },
  {
   "cell_type": "code",
   "execution_count": null,
   "id": "b7370e58-4c15-4656-8355-b7761597354a",
   "metadata": {},
   "outputs": [],
   "source": [
    "dhtml(f'Last updated: {datetime.now().strftime(\"%A, %-d %B %Y\")}')"
   ]
  },
  {
   "cell_type": "code",
   "execution_count": null,
   "id": "40a15d59-93b9-4689-a805-988ad834993b",
   "metadata": {},
   "outputs": [],
   "source": [
    "all_path = \"data/total_articles_by_activity.csv\"\n",
    "df_all = get_versions(all_path)\n",
    "df_all.replace({'all': 'All articles', 'has:corrections': 'Articles with corrections', 'has:tags': 'Articles with tags', 'has:comments': 'Articles with comments'}, inplace=True)\n",
    "harvests_all = list(df_all['date'].unique())"
   ]
  },
  {
   "cell_type": "markdown",
   "id": "00e54e01-ef6e-4b75-a36e-9022545aea74",
   "metadata": {},
   "source": [
    "----\n",
    "\n",
    "## Total articles and user activity"
   ]
  },
  {
   "cell_type": "code",
   "execution_count": null,
   "id": "5965ac48-21b1-4fe4-85b5-0884330c31ac",
   "metadata": {},
   "outputs": [],
   "source": [
    "all_url = f'https://github.com/wragge/trove-newspaper-totals/blob/master/{all_path}'\n",
    "dates = [{\n",
    "    'Latest data harvest': f'{df_all[\"date\"].max():%d %B %Y}',\n",
    "    'First data harvest': f'{df_all[\"date\"].min():%d %B %Y}',\n",
    "    'Total harvests': len(df_all['date'].unique()),\n",
    "    'Data': f'<a href={all_url} target=\"_blank\">{all_url}</a>'\n",
    "}]\n",
    "\n",
    "left_align_columns(pd.DataFrame(dates).T.style.hide(axis=1))"
   ]
  },
  {
   "cell_type": "code",
   "execution_count": null,
   "id": "26c38a74-57d1-4131-b78c-454b150cdac5",
   "metadata": {},
   "outputs": [],
   "source": [
    "dhtml(f'<div class=\"alert alert-block alert-info\"><h3>As of <b>{df_all[\"date\"].max():%d %B %Y}</b> there are <b>{current_total(df_all, val=\"All articles\"):,}</b> digitised newspaper articles in Trove.</h3></div>')"
   ]
  },
  {
   "cell_type": "code",
   "execution_count": null,
   "id": "786b7f50-65ae-4893-b997-909d48f954a3",
   "metadata": {},
   "outputs": [],
   "source": [
    "harvest_types = ['All articles', 'Articles with corrections', 'Articles with tags', 'Articles with comments']\n",
    "\n",
    "changes = []\n",
    "for htype in harvest_types:\n",
    "    changes.append({\n",
    "        'Current total': f'{current_total(df_all, val=htype):,}',\n",
    "        f'Change since {harvest_date(harvests_all[-2])}': f'{int(change_in_total(df_all, val=htype, period=1)):,}',\n",
    "        f'Change since {harvest_date(harvests_all[-5])}': f'{int(change_in_total(df_all, val=htype, period=4)):,}',\n",
    "        f'Change since {harvest_date(harvests_all[0])}': f'{int(change_in_total(df_all, val=htype, period=len(df_all[\"date\"].unique())-1)):,}',\n",
    "        'Percentage of total': f'{current_total(df_all, val=htype)/current_total(df_all):.2%}'\n",
    "    })\n",
    "    \n",
    "left_align_headers(pd.DataFrame(changes, index=harvest_types).style)"
   ]
  },
  {
   "cell_type": "code",
   "execution_count": null,
   "id": "867e7bf0-35cc-4c1d-8d46-d715cbacec18",
   "metadata": {},
   "outputs": [],
   "source": [
    "alt.Chart(df_all).mark_line(point=True).encode(\n",
    "    x=alt.X('date:T', title=None, axis=alt.Axis(format='%e %b')),\n",
    "    y=alt.Y('total:Q', title=None, scale=alt.Scale(zero=False)),\n",
    "    tooltip=[alt.Tooltip('date:T', title='harvest date', format='%e %b %Y'), alt.Tooltip('total:Q', title='number of articles', format=','),],\n",
    "    facet=alt.Facet('harvest_type:N', columns=2, title=None),\n",
    "    color='harvest_type:N'\n",
    ").resolve_scale(\n",
    "    x='independent', \n",
    "    y='independent'\n",
    ").properties(width=300, height=200)"
   ]
  },
  {
   "cell_type": "markdown",
   "id": "138f471f-bfda-4920-88c1-40dfeb58d4fd",
   "metadata": {},
   "source": [
    "----\n",
    "\n",
    "## Total articles by publication year"
   ]
  },
  {
   "cell_type": "code",
   "execution_count": null,
   "id": "ad75cf6b-6f6f-4b44-bd0e-eb73bd0b59b7",
   "metadata": {},
   "outputs": [],
   "source": [
    "years_path = \"data/total_articles_by_year.csv\"\n",
    "df_years = get_versions(years_path)"
   ]
  },
  {
   "cell_type": "code",
   "execution_count": null,
   "id": "64a68ace-7932-476c-a442-b983056f94ac",
   "metadata": {},
   "outputs": [],
   "source": [
    "years_url = f'https://github.com/wragge/trove-newspaper-totals/blob/master/{years_path}'\n",
    "dates = [{\n",
    "    'Latest data harvest': f'{df_years[\"date\"].max():%d %B %Y}',\n",
    "    'First data harvest': f'{df_years[\"date\"].min():%d %B %Y}',\n",
    "    'Total harvests': len(df_years['date'].unique()),\n",
    "    'Data': f'<a href={years_url} target=\"_blank\">{years_url}</a>'\n",
    "}]\n",
    "\n",
    "left_align_columns(pd.DataFrame(dates).T.style.hide(axis=1))"
   ]
  },
  {
   "cell_type": "markdown",
   "id": "7dddbabd-c121-451a-a2db-3d06091435a6",
   "metadata": {},
   "source": [
    "This chart shows the total number of digitised newspaper articles by year of publication. The distribution will change over time as digitisation priorities shift and more newspapers are added. This chart is useful in understanding how digitisation priorities and copyright restraints have shaped the total newspaper corpus. "
   ]
  },
  {
   "cell_type": "code",
   "execution_count": null,
   "id": "3e44e8d1-6744-4ed0-a675-22d1a5a83591",
   "metadata": {},
   "outputs": [],
   "source": [
    "alt.Chart(df_years.loc[df_years['date'] == df_years['date'].max()]).mark_bar(opacity=1).encode(\n",
    "    x=alt.X('year:O', axis=alt.Axis(labelOverlap=True), title='year of publication'),\n",
    "    y=alt.Y('total:Q', title='number of articles'),\n",
    "    tooltip=[alt.Tooltip('year:O', title='year of publication'), alt.Tooltip('total:Q', format=\",\", title='number of articles')],\n",
    ").properties(width=800)"
   ]
  },
  {
   "cell_type": "markdown",
   "id": "5f376671-3084-471a-9fae-e4a01d4e7017",
   "metadata": {},
   "source": [
    "----\n",
    "\n",
    "## Total articles by publication year and state"
   ]
  },
  {
   "cell_type": "code",
   "execution_count": null,
   "id": "dd372325-b03a-40b7-a063-b6ee292cfd71",
   "metadata": {},
   "outputs": [],
   "source": [
    "states_years_path = \"data/total_articles_by_year_and_state.csv\"\n",
    "df_states_years = get_versions(states_years_path)\n",
    "harvests_states_years = list(df_states_years['date'].unique())\n",
    "df_states = df_states_years.loc[df_states_years['date'] == df_states_years['date'].max()].groupby('state')['total'].sum().to_frame().reset_index()\n",
    "df_states_all = df_states_years.groupby(['state', 'date'])['total'].sum().to_frame().reset_index()"
   ]
  },
  {
   "cell_type": "code",
   "execution_count": null,
   "id": "55764390-e9e2-4806-b0d7-d0cad3b96a7a",
   "metadata": {},
   "outputs": [],
   "source": [
    "states_years_url = f'https://github.com/wragge/trove-newspaper-totals/blob/master/{states_years_path}'\n",
    "dates = [{\n",
    "    'Latest data harvest': f'{df_states_years[\"date\"].max():%d %B %Y}',\n",
    "    'First data harvest': f'{df_states_years[\"date\"].min():%d %B %Y}',\n",
    "    'Total harvests': len(df_states_years['date'].unique()),\n",
    "    'Data': f'<a href={states_years_url} target=\"_blank\">{states_years_url}</a>'\n",
    "}]\n",
    "\n",
    "left_align_columns(pd.DataFrame(dates).T.style.hide(axis=1))"
   ]
  },
  {
   "cell_type": "markdown",
   "id": "c7df34b1-3d02-4247-8748-8871ed6338c3",
   "metadata": {},
   "source": [
    "This interactive chart helps you explore the distribution of articles by both publication year and state. Click on a state in the bar chart or legend to filter the results by year. Click anywhere in the background of the chart to reset. This enables you to compare digitisation patterns in different states and see how they contribute to the whole corpus."
   ]
  },
  {
   "cell_type": "code",
   "execution_count": null,
   "id": "ead7fe5c-493d-4dcd-90da-191d5dba6512",
   "metadata": {},
   "outputs": [],
   "source": [
    "# Use color as the selector for filtering the chart\n",
    "selection = alt.selection_multi(encodings=[\"color\"])\n",
    "\n",
    "# Color is based on the state, or gray if another state is selected\n",
    "color = alt.condition(\n",
    "    selection, alt.Color(\"state:N\", legend=None), alt.value(\"lightgray\")\n",
    ")\n",
    "\n",
    "# A basic area chart, starts stacked, but when filtered shows only the active state\n",
    "area = (\n",
    "    alt.Chart(df_states_years.loc[df_states_years['date'] == df_states_years['date'].max()])\n",
    "    .mark_bar()\n",
    "    .encode(\n",
    "        # Years on the X axis\n",
    "        x=alt.X(\"year:O\", axis=alt.Axis(labelOverlap=True, format=\"c\", title=\"year of publication\")),\n",
    "        # Number of articles on the Y axis\n",
    "        y=alt.Y(\n",
    "            \"total:Q\",\n",
    "            axis=alt.Axis(format=\",d\", title=\"number of articles\"),\n",
    "            stack=True,\n",
    "        ),\n",
    "        # Color uses the settings defined above\n",
    "        color=color,\n",
    "        # Details on hover\n",
    "        tooltip=[\n",
    "            \"state\",\n",
    "            alt.Tooltip(\"year:Q\", title=\"year of publication\"),\n",
    "            alt.Tooltip(\"total:Q\", title=\"number of articles\", format=\",\"),\n",
    "        ],\n",
    "    )\n",
    "    .properties(width=800, height=400)\n",
    "    .transform_filter(\n",
    "        # Filter data by state when a state is selected\n",
    "        selection\n",
    "    )\n",
    "    .add_selection(selection)\n",
    ")\n",
    "\n",
    "# Add a bar chart showing the number of articles per state\n",
    "bar = (\n",
    "    alt.Chart(df_states)\n",
    "    .mark_bar()\n",
    "    .encode(\n",
    "        # State on the X axis\n",
    "        x=alt.X(\"state:N\", title=\"state\"),\n",
    "        # Number of articles on the Y axis\n",
    "        y=alt.Y(\n",
    "            \"total:Q\", axis=alt.Axis(format=\",d\", title=\"number of articles\")\n",
    "        ),\n",
    "        # Details on hover\n",
    "        tooltip=[\n",
    "            alt.Tooltip(\"state\", title=\"state\"),\n",
    "            alt.Tooltip(\"total:Q\", title=\"number of articles\", format=\",\"),\n",
    "        ],\n",
    "        # Color based on state as defined above\n",
    "        color=color,\n",
    "    )\n",
    "    .properties(width=800, height=150)\n",
    "    .add_selection(\n",
    "        # Highlight state when selected\n",
    "        selection\n",
    "    )\n",
    ")\n",
    "\n",
    "# For good measure we'll add an interactive legend (which is really just a mini chart)\n",
    "# This makes it easier to select states that don't have many articles\n",
    "legend = (\n",
    "    alt.Chart(df_states)\n",
    "    .mark_rect()\n",
    "    .encode(\n",
    "        # Show the states\n",
    "        y=alt.Y(\"state:N\", axis=alt.Axis(orient=\"right\", title=None)),\n",
    "        # Color as above\n",
    "        color=color,\n",
    "    )\n",
    "    .add_selection(\n",
    "        # Highlight on selection\n",
    "        selection\n",
    "    )\n",
    ")\n",
    "\n",
    "# Concatenate the charts -- area & legend hotizontal, then bar added vertically\n",
    "(area | legend) & bar"
   ]
  },
  {
   "cell_type": "code",
   "execution_count": null,
   "id": "4c5ea579-6cb3-48bf-8ee7-7b89c8877c73",
   "metadata": {},
   "outputs": [],
   "source": [
    "dhtml(f'<h3>Total articles added since {harvest_date(harvests_states_years[-2])} by publication year and state</h3>')"
   ]
  },
  {
   "cell_type": "markdown",
   "id": "c8c0510e-7ecf-4432-a822-2b5cdaf6f46a",
   "metadata": {},
   "source": [
    "This chart shows the total number of digitised newspaper articles added since the previous harvest by year and place of publication. It's useful in seeing how search results from particular time periods and locations might be affected by current digitisation priorities."
   ]
  },
  {
   "cell_type": "code",
   "execution_count": null,
   "id": "0235b482-1199-44a5-a36e-3f32314c4143",
   "metadata": {
    "tags": []
   },
   "outputs": [],
   "source": [
    "year_changes = []\n",
    "for g, d in df_states_years.groupby(['year', 'state']):\n",
    "    change = d.sort_values('date')['total'].diff(periods=1).iloc[-1]\n",
    "    year_changes.append({'year': g[0], 'state': g[1], 'change': change})\n",
    "df_year_changes1 = pd.DataFrame(year_changes)\n",
    "\n",
    "alt.Chart(df_year_changes1.loc[df_year_changes1['change'] >= 0]).mark_bar(opacity=1).encode(\n",
    "    x=alt.X('year:O', axis=alt.Axis(labelOverlap=True), title='year of publication'),\n",
    "    y=alt.Y('change:Q', stack=True, title='increase in articles'),\n",
    "    color='state:N',\n",
    "    tooltip=['state:N', alt.Tooltip('year:O', title='year of publication'), alt.Tooltip('change:Q', title='increase in articles', format=',')]\n",
    ").properties(width=800)"
   ]
  },
  {
   "cell_type": "code",
   "execution_count": null,
   "id": "63cf0f5c-0286-4d6f-906a-2ae93977d554",
   "metadata": {},
   "outputs": [],
   "source": [
    "dhtml(f'<h3>Total articles added since {harvest_date(harvests_states_years[0])} by publication year and state</h3>')"
   ]
  },
  {
   "cell_type": "markdown",
   "id": "901a0faf-d004-4603-8a6d-b7353ac8d95f",
   "metadata": {},
   "source": [
    "This chart shows the total number of digitised newspaper articles added since the first harvest by year and place of publication. It's useful in seeing how search results from particular time periods or locations might be affected by recent digitisation priorities."
   ]
  },
  {
   "cell_type": "code",
   "execution_count": null,
   "id": "6af18963-2898-4bcb-a876-05c2993fed85",
   "metadata": {},
   "outputs": [],
   "source": [
    "df_years_start_end = df_states_years.loc[(df_states_years['date'] == df_states_years['date'].max()) | (df_states_years['date'] == df_states_years['date'].min())]\n",
    "\n",
    "year_changes = []\n",
    "for g, d in df_years_start_end.groupby(['year', 'state']):\n",
    "    change = d.sort_values('date')['total'].diff().iloc[-1]\n",
    "    year_changes.append({'year': g[0], 'state': g[1], 'change': change})\n",
    "df_year_changes_all = pd.DataFrame(year_changes)\n",
    "\n",
    "alt.Chart(df_year_changes_all.loc[df_year_changes_all['change'] >= 0]).mark_bar(opacity=1).encode(\n",
    "    x=alt.X('year:O', axis=alt.Axis(labelOverlap=True), title='year of publication'),\n",
    "    y=alt.Y('change:Q', stack=True, title='increase in articles'),\n",
    "    color='state:N',\n",
    "    tooltip=['state:N', alt.Tooltip('year:O', title='year of publication'), alt.Tooltip('change:Q', title='increase in articles', format=',')]\n",
    ").properties(width=800)"
   ]
  },
  {
   "cell_type": "markdown",
   "id": "eca8f85c-f4b0-48cf-bf3a-8a96a84e5ac3",
   "metadata": {},
   "source": [
    "----\n",
    "\n",
    "## Article categories"
   ]
  },
  {
   "cell_type": "code",
   "execution_count": null,
   "id": "7bbc33eb-6b7a-4bf6-ac49-f1ba1148ec5e",
   "metadata": {},
   "outputs": [],
   "source": [
    "cat_path = \"data/total_articles_by_category.csv\"\n",
    "df_cat = get_versions(cat_path)\n",
    "harvests_cat = list(df_cat['date'].unique())"
   ]
  },
  {
   "cell_type": "code",
   "execution_count": null,
   "id": "95efc646-a292-412b-a0d1-7c5f62eefc66",
   "metadata": {},
   "outputs": [],
   "source": [
    "cat_url = f'https://github.com/wragge/trove-newspaper-totals/blob/master/{cat_path}'\n",
    "dates = [{\n",
    "    'Latest data harvest': f'{df_cat[\"date\"].max():%d %B %Y}',\n",
    "    'First data harvest': f'{df_cat[\"date\"].min():%d %B %Y}',\n",
    "    'Total harvests': len(df_cat['date'].unique()),\n",
    "    'Data': f'<a href={cat_url} target=\"_blank\">{cat_url}</a>'\n",
    "}]\n",
    "left_align_columns(pd.DataFrame(dates).T.style.hide(axis=1))"
   ]
  },
  {
   "cell_type": "code",
   "execution_count": null,
   "id": "40352c58-29a1-4097-8e49-3a9f5f5a4fb6",
   "metadata": {},
   "outputs": [],
   "source": [
    "df_cat_current = df_cat.loc[df_cat['date'] == df_cat['date'].max()]\n",
    "\n",
    "alt.Chart(df_cat_current).mark_bar().encode(\n",
    "    x=alt.X('total:Q', scale=alt.Scale(type=\"log\"), title='number of articles (log scale)'),\n",
    "    y='category:N',\n",
    "    tooltip=['category', alt.Tooltip('total:Q', format=',', title='number of articles')],\n",
    "    color=alt.Color('category:N', scale=alt.Scale(scheme='category20'))\n",
    ").properties(width=800)"
   ]
  },
  {
   "cell_type": "code",
   "execution_count": null,
   "id": "edf6508a-9620-406e-be75-ccf9f499ee7a",
   "metadata": {},
   "outputs": [],
   "source": [
    "categories = sorted(list(df_cat['category'].unique()))\n",
    "\n",
    "changes = []\n",
    "for cat in categories:\n",
    "    changes.append({\n",
    "        'Current total': f'{current_total(df_cat, col=\"category\", val=cat):,}',\n",
    "        f'Change since {harvest_date(harvests_cat[-2])}': f'{int(change_in_total(df_cat, col=\"category\", val=cat, period=1)):,}',\n",
    "        f'Change since {harvest_date(harvests_cat[-5])}': f'{int(change_in_total(df_cat, col=\"category\", val=cat, period=4)):,}',\n",
    "        f'Change since {harvest_date(harvests_cat[0])}': f'{int(change_in_total(df_cat, col=\"category\", val=cat, period=len(df_cat[\"date\"].unique())-1)):,}',\n",
    "        'Percentage of total': f'{current_total(df_cat, col=\"category\", val=cat)/current_total(df_all):.3%}'\n",
    "    })\n",
    "    \n",
    "left_align_headers(pd.DataFrame(changes, index=categories).style)"
   ]
  },
  {
   "cell_type": "markdown",
   "id": "ea82695c-ae17-44d6-a6ce-9b80e569bf93",
   "metadata": {},
   "source": [
    "----\n",
    "\n",
    "## Newspaper titles"
   ]
  },
  {
   "cell_type": "code",
   "execution_count": null,
   "id": "2afa670d-0dae-448e-ba1d-7c9ed6e03728",
   "metadata": {},
   "outputs": [],
   "source": [
    "news_path = \"data/total_articles_by_newspaper.csv\"\n",
    "df_news = get_versions(\"data/total_articles_by_newspaper.csv\", dates=['start_date', 'end_date'])\n",
    "harvests_news = list(df_news['date'].unique())"
   ]
  },
  {
   "cell_type": "code",
   "execution_count": null,
   "id": "850337e8-c202-4bd6-ac6a-1bdaabf70ff9",
   "metadata": {},
   "outputs": [],
   "source": [
    "harvests = pd.DataFrame(df_news['date'].unique(), columns=['date'])"
   ]
  },
  {
   "cell_type": "code",
   "execution_count": null,
   "id": "2a45d4e5-a92c-4db6-9400-bd773405ef2d",
   "metadata": {},
   "outputs": [],
   "source": [
    "news_url = f'https://github.com/wragge/trove-newspaper-totals/blob/master/{news_path}'\n",
    "dates = [{\n",
    "    'Latest data harvest': f'{harvests[\"date\"].max():%d %B %Y}',\n",
    "    'First data harvest': f'{harvests[\"date\"].min():%d %B %Y}',\n",
    "    'Total harvests': harvests.shape[0],\n",
    "    'Data': f'<a href={news_url} target=\"_blank\">{news_url}</a>'\n",
    "}]\n",
    "left_align_columns(pd.DataFrame(dates).T.style.hide(axis=1))"
   ]
  },
  {
   "cell_type": "code",
   "execution_count": null,
   "id": "8abfa375-457f-4e70-a050-5dda92654e64",
   "metadata": {},
   "outputs": [],
   "source": [
    "dhtml(f'<div class=\"alert alert-block alert-info\"><h3>As of <b>{df_news[\"date\"].max():%d %B %Y}</b> there are <b>{len(df_news[\"title_id\"].unique()):,}</b> different newspapers in Trove.</h3></div>')"
   ]
  },
  {
   "cell_type": "code",
   "execution_count": null,
   "id": "b398ae58-d889-4fb1-b307-bf61b54a0364",
   "metadata": {},
   "outputs": [],
   "source": [
    "news_summary = [{\n",
    "    'Total newspapers': f'{len(df_news[\"title_id\"].unique()):,}',\n",
    "    'Earliest publication date': f'{df_news[\"start_date\"].min():%d %B %Y}',\n",
    "    'Latest publication date': f'{df_news[\"end_date\"].max():%d %B %Y}'\n",
    "}]\n",
    "left_align_columns(pd.DataFrame(news_summary).T.style.hide(axis=1))"
   ]
  },
  {
   "cell_type": "markdown",
   "id": "e9a68771-b260-470c-9391-336ab2aecc96",
   "metadata": {},
   "source": [
    "### Newspapers by state of publication\n",
    "\n",
    "This chart shows the place of publication of newspaper titles in Trove."
   ]
  },
  {
   "cell_type": "code",
   "execution_count": null,
   "id": "d8445424-f1e4-44bc-80d4-eadfc5cd3312",
   "metadata": {},
   "outputs": [],
   "source": [
    "alt.Chart(df_news.loc[df_news['date'] == df_news['date'].max()]).mark_bar().encode(\n",
    "    y='state:N',\n",
    "    x=alt.X('count():Q', title='number of newspapers'),\n",
    "    tooltip=['state:N', alt.Tooltip('count():Q', title='number of newspapers')],\n",
    "    color=alt.Color('state:N')\n",
    ")"
   ]
  },
  {
   "cell_type": "markdown",
   "id": "9b8c9a8d-26a9-4b9f-bdd2-716a84ff72ab",
   "metadata": {},
   "source": [
    "### Changes in the number of newspapers by state of publication"
   ]
  },
  {
   "cell_type": "code",
   "execution_count": null,
   "id": "b05a6ef2-ee91-4eb3-8ec8-130fb3d985a0",
   "metadata": {},
   "outputs": [],
   "source": [
    "df_news_states = df_news.groupby(['state', 'date']).count().reset_index()\n",
    "df_news_states = df_news_states[['state', 'date', 'total']]"
   ]
  },
  {
   "cell_type": "code",
   "execution_count": null,
   "id": "c14edfb5-acae-4c6a-bcef-e6c8ae04fe15",
   "metadata": {
    "tags": []
   },
   "outputs": [],
   "source": [
    "states = sorted(list(df_news['state'].dropna().unique()))\n",
    "\n",
    "changes = []\n",
    "for state in states:\n",
    "    changes.append({\n",
    "        'Current total': f'{current_total(df_news_states, col=\"state\", val=state):,}',\n",
    "        f'Change since {harvest_date(harvests_news[-2])}': f'{int(change_in_total(df_news_states, col=\"state\", val=state, period=1)):,}',\n",
    "        f'Change since {harvest_date(harvests_news[-5])}': f'{int(change_in_total(df_news_states, col=\"state\", val=state, period=4)):,}',\n",
    "        f'Change since {harvest_date(harvests_news[0])}': f'{int(change_in_total(df_news_states, col=\"state\", val=state, period=len(df_news_states[\"date\"].unique())-1)):,}',\n",
    "        'Percentage of total': f'{current_total(df_news_states, col=\"state\", val=state)/len(df_news[\"title\"].unique()):.2%}'\n",
    "    })\n",
    "    \n",
    "left_align_headers(pd.DataFrame(changes, index=states).style)"
   ]
  },
  {
   "cell_type": "code",
   "execution_count": null,
   "id": "f27d2996-3769-41cd-a21b-ca771ccc90a1",
   "metadata": {},
   "outputs": [],
   "source": [
    "df_news_latest = df_news.loc[df_news['date'] == harvests.iloc[-1]['date']][['title_id', 'title', 'state', 'total']]\n",
    "df_news_minus1 = df_news.loc[df_news['date'] == harvests.iloc[-2]['date']][['title_id', 'title', 'state']]\n",
    "df_news_minus4 = df_news.loc[df_news['date'] == harvests.iloc[-4]['date']][['title_id', 'title', 'state']]\n",
    "df_news_all = df_news.loc[df_news['date'] == harvests.iloc[0]['date']][['title_id', 'title', 'state']]"
   ]
  },
  {
   "cell_type": "code",
   "execution_count": null,
   "id": "89c47ceb-30b9-46d0-99fe-6cfcee552792",
   "metadata": {},
   "outputs": [],
   "source": [
    "dhtml(f'<h3>Newspapers added since {harvest_date(harvests_news[-2])}</h3>')"
   ]
  },
  {
   "cell_type": "code",
   "execution_count": null,
   "id": "4af37d3f-2ee4-42d7-b238-b51ece19e95e",
   "metadata": {},
   "outputs": [],
   "source": [
    "# Find titles added since last harvest\n",
    "news_changes_1 = pd.concat([df_news_latest,df_news_minus1]).drop_duplicates(subset=['title_id'], keep=False).dropna()\n",
    "if news_changes_1.empty:\n",
    "    dhtml('<ul class=\"browser-default\"><li>No newspapers added in this period.</li></ul>')\n",
    "else:\n",
    "    news_changes_1['link'] = news_changes_1['title_id'].apply(lambda x: f'https://nla.gov.au/nla.news-title{x}')\n",
    "    display(left_align_columns(news_changes_1.style.format({'link': make_clickable}).hide()))"
   ]
  },
  {
   "cell_type": "code",
   "execution_count": null,
   "id": "d282d982-7851-4744-94f2-4505b5c6e151",
   "metadata": {},
   "outputs": [],
   "source": [
    "dhtml(f'<h3>Newspapers added since {harvest_date(harvests_news[-5])}</h3>')"
   ]
  },
  {
   "cell_type": "code",
   "execution_count": null,
   "id": "6ba0a68b-a46e-4004-9f6e-152809c0e8c4",
   "metadata": {},
   "outputs": [],
   "source": [
    "news_changes_4 = pd.concat([df_news_latest,df_news_minus4]).drop_duplicates(subset=['title_id'], keep=False).dropna()\n",
    "if news_changes_4.empty:\n",
    "    dhtml('<ul class=\"browser-default\"><li>No newspapers added in this period.</li></ul>')\n",
    "else:\n",
    "    news_changes_4['link'] = news_changes_4['title_id'].apply(lambda x: f'https://nla.gov.au/nla.news-title{x}')\n",
    "    display(left_align_columns(news_changes_4.style.format({'link': make_clickable}).hide()))"
   ]
  },
  {
   "cell_type": "code",
   "execution_count": null,
   "id": "683a987b-a5db-4c19-80af-a25bfbaff461",
   "metadata": {},
   "outputs": [],
   "source": [
    "def newspaper_total_changes(df, period=1):\n",
    "    news_changes = []\n",
    "    for g, n in df.groupby('title_id'):\n",
    "        change = n['total'].diff(periods=period).iloc[-1]\n",
    "        if change > 0:\n",
    "            news_changes.append({\n",
    "                'title_id': g,\n",
    "                'title': n.iloc[-1]['title'],\n",
    "                'change in articles': int(change),\n",
    "                'link': f'https://nla.gov.au/nla.news-title{g}'\n",
    "            })\n",
    "    return pd.DataFrame(news_changes)"
   ]
  },
  {
   "cell_type": "code",
   "execution_count": null,
   "id": "a8962134-20c8-4563-ba2e-3b99a35ca0f8",
   "metadata": {},
   "outputs": [],
   "source": [
    "dhtml(f'<h3>Changes in the number of articles from newspapers since {harvest_date(harvests_news[-2])}</h3>')"
   ]
  },
  {
   "cell_type": "code",
   "execution_count": null,
   "id": "d5c80b41-93d1-4d02-b45c-fed2add93433",
   "metadata": {},
   "outputs": [],
   "source": [
    "news_articles_1 = newspaper_total_changes(df_news, 1)\n",
    "if news_articles_1.empty:\n",
    "    dhtml('<ul class=\"browser-default\"><li>No changes in this period.</li></ul>')\n",
    "else:\n",
    "    news_articles_1['link'] = news_articles_1['title_id'].apply(lambda x: f'https://nla.gov.au/nla.news-title{x}')\n",
    "    display(left_align_columns(news_articles_1.style.format({'link': make_clickable, 'change in articles': '{:,}'}).hide()))"
   ]
  },
  {
   "cell_type": "code",
   "execution_count": null,
   "id": "e35617ee-eda6-43e1-93df-b25a6fcb5751",
   "metadata": {},
   "outputs": [],
   "source": [
    "dhtml(f'<h3>Changes in the number of articles from newspapers since {harvest_date(harvests_news[-5])}</h3>')"
   ]
  },
  {
   "cell_type": "code",
   "execution_count": null,
   "id": "336f4522-0895-4f7c-8cb0-1886a419da97",
   "metadata": {},
   "outputs": [],
   "source": [
    "news_articles_4 = newspaper_total_changes(df_news, 4)\n",
    "if news_articles_4.empty:\n",
    "    dhtml('<ul class=\"browser-default\"><li>No changes in this period.</li></ul>')\n",
    "else:\n",
    "    news_articles_4['link'] = news_articles_4['title_id'].apply(lambda x: f'https://nla.gov.au/nla.news-title{x}')\n",
    "    display(left_align_columns(news_articles_4.style.format({'link': make_clickable, 'change in articles': '{:,}'}).hide()))"
   ]
  },
  {
   "cell_type": "markdown",
   "id": "f5c6c269-cddc-44a9-97d7-458014e736d5",
   "metadata": {},
   "source": [
    "----\n",
    "\n",
    "## Total articles by publication state"
   ]
  },
  {
   "cell_type": "markdown",
   "id": "caa98085-98cb-41a1-85f6-35421402689c",
   "metadata": {},
   "source": [
    "Data about the number of articles by publication place (state) is available both from the main `result` API using the `state` facet, and from the `newspaper` API. As noted under [Significant events](#Significant-events), these totals don't always agree. I've included both below, so you can compare."
   ]
  },
  {
   "cell_type": "markdown",
   "id": "7dc751bd-f4c5-4cb5-af1c-bb32cfcf7c29",
   "metadata": {},
   "source": [
    "### Number of articles by state of publication (via `result` API)"
   ]
  },
  {
   "cell_type": "code",
   "execution_count": null,
   "id": "e43f157b-581a-408e-8fe3-d21327a9e0b5",
   "metadata": {},
   "outputs": [],
   "source": [
    "alt.Chart(df_states).mark_bar().encode(\n",
    "        # State on the X axis\n",
    "        y=alt.Y(\"state:N\", title=\"state\"),\n",
    "        # Number of articles on the Y axis\n",
    "        x=alt.X(\n",
    "            \"total:Q\", axis=alt.Axis(format=\",d\", title=\"number of articles\")\n",
    "        ),\n",
    "        # Details on hover\n",
    "        tooltip=[\n",
    "            alt.Tooltip(\"state\", title=\"state\"),\n",
    "            alt.Tooltip(\"total:Q\", title=\"number of articles\", format=\",\"),\n",
    "        ],\n",
    "        # Color based on state as defined above\n",
    "        color='state:N',\n",
    "    ).properties()\n"
   ]
  },
  {
   "cell_type": "markdown",
   "id": "f0f27f7f-6127-42c0-88f7-d9544eebd9fc",
   "metadata": {},
   "source": [
    "### Number of articles by state of publication (via `newspaper` API)"
   ]
  },
  {
   "cell_type": "code",
   "execution_count": null,
   "id": "5c8cb6b6-c4cb-4f06-8c6f-cef188594536",
   "metadata": {},
   "outputs": [],
   "source": [
    "df_news_states_totals = df_news_latest.groupby(['state'])['total'].sum().reset_index()\n",
    "alt.Chart(df_news_states_totals).mark_bar().encode(\n",
    "        # State on the X axis\n",
    "        y=alt.Y(\"state:N\", title=\"state\"),\n",
    "        # Number of articles on the Y axis\n",
    "        x=alt.X(\n",
    "            \"total:Q\", axis=alt.Axis(format=\",d\", title=\"number of articles\")\n",
    "        ),\n",
    "        # Details on hover\n",
    "        tooltip=[\n",
    "            alt.Tooltip(\"state\", title=\"state\"),\n",
    "            alt.Tooltip(\"total:Q\", title=\"number of articles\", format=\",\"),\n",
    "        ],\n",
    "        # Color based on state as defined above\n",
    "        color='state:N',\n",
    "    ).properties()\n"
   ]
  },
  {
   "cell_type": "markdown",
   "id": "1fffdfce-606f-4edf-9333-a29c1f19946c",
   "metadata": {},
   "source": [
    "### Changes in the number of articles by state of publication (via `result` API)"
   ]
  },
  {
   "cell_type": "code",
   "execution_count": null,
   "id": "0ecee54a-f8f2-489a-b993-818da6256d3e",
   "metadata": {},
   "outputs": [],
   "source": [
    "states = sorted(list(df_states_all['state'].unique()))\n",
    "\n",
    "changes = []\n",
    "for state in states:\n",
    "    changes.append({\n",
    "        'Current total': f'{current_total(df_states_all, col=\"state\", val=state):,}',\n",
    "        f'Change since {harvest_date(harvests_states_years[-2])}': f'{int(change_in_total(df_states_all, col=\"state\", val=state, period=1)):,}',\n",
    "        f'Change since {harvest_date(harvests_states_years[-5])}': f'{int(change_in_total(df_states_all, col=\"state\", val=state, period=4)):,}',\n",
    "        f'Change since {harvest_date(harvests_states_years[0])}': f'{int(change_in_total(df_states_all, col=\"state\", val=state, period=len(df_states_all[\"date\"].unique())-1)):,}',\n",
    "        'Percentage of total': f'{current_total(df_states_all, col=\"state\", val=state)/current_total(df_all):.3%}'\n",
    "    })\n",
    "    \n",
    "left_align_headers(pd.DataFrame(changes, index=states).style)"
   ]
  },
  {
   "cell_type": "markdown",
   "id": "8bcf4770-6362-4898-aff5-44512b697e77",
   "metadata": {},
   "source": [
    "### Changes in the number of articles by state of publication (via `newspaper` API)"
   ]
  },
  {
   "cell_type": "code",
   "execution_count": null,
   "id": "77cbc976-034b-4f7c-87e9-3389ef4fa990",
   "metadata": {},
   "outputs": [],
   "source": [
    "df_news_states_all = df_news.groupby(['state', 'date'])['total'].sum().reset_index()\n",
    "states = sorted(list(df_news_states['state'].unique()))\n",
    "\n",
    "changes = []\n",
    "for state in states:\n",
    "    changes.append({\n",
    "        'Current total': f'{current_total(df_news_states_all, col=\"state\", val=state):,}',\n",
    "        f'Change since {harvest_date(harvests_states_years[-2])}': f'{int(change_in_total(df_news_states_all, col=\"state\", val=state, period=1)):,}',\n",
    "        f'Change since {harvest_date(harvests_states_years[-5])}': f'{int(change_in_total(df_news_states_all, col=\"state\", val=state, period=4)):,}',\n",
    "        f'Change since {harvest_date(harvests_states_years[0])}': f'{int(change_in_total(df_news_states_all, col=\"state\", val=state, period=len(df_states_all[\"date\"].unique())-1)):,}',\n",
    "        'Percentage of total': f'{current_total(df_news_states_all, col=\"state\", val=state)/current_total(df_all):.3%}'\n",
    "    })\n",
    "    \n",
    "left_align_headers(pd.DataFrame(changes, index=states).style)"
   ]
  },
  {
   "cell_type": "markdown",
   "id": "02684ec8-a622-4ce2-8faf-cfbebad95003",
   "metadata": {},
   "source": [
    "----\n",
    "\n",
    "## Significant events\n",
    "\n",
    "While the changes documented here generally reflect the addition of new articles and newspapers, the total numbers can also be affected by system configuration and optimisation events, such as rebuilding the index. It's difficult to highlight these sorts of anomalies in the charts above, but where I notice them I'll add a note here.\n",
    "\n",
    "### 31 May 2022 – reindex?\n",
    "\n",
    "Between the harvests on 29 May and 5 June 2022 there was a dramatic change in the distribution of articles by state (using the state facet). The number of articles from NSW decreased by 939,065, and the number of articles from Victoria increased by 961,387. There were also some smaller changes affecting other states. There was a scheduled maintenance window on 31 May, which makes me think that these reflect changes in the underlying search index, rather than the actual number of articles. Further evidence for this is the fact that the number of articles per state calculated by using the `newspaper` API endpoint were out-of-sync with the article totals until the end of May. Since then, both sets of article totals have remained in sync. So, in short, the number of articles returned by the state facet between 19 April 2022 (when my harvests started) and 31 May 2022 can't be trusted."
   ]
  },
  {
   "cell_type": "markdown",
   "id": "6a0c2287-8bbe-4e5a-8bd1-3ba5cd5c4c01",
   "metadata": {},
   "source": [
    "----\n",
    "\n",
    "Created by [Tim Sherratt](https://timsherratt.org/) for the [GLAM Workbench](https://glam-workbench.net/). Support this project by becoming a [GitHub sponsor](https://github.com/sponsors/wragge?o=esb)."
   ]
  }
 ],
 "metadata": {
  "kernelspec": {
   "display_name": "Python 3 (ipykernel)",
   "language": "python",
   "name": "python3"
  },
  "language_info": {
   "codemirror_mode": {
    "name": "ipython",
    "version": 3
   },
   "file_extension": ".py",
   "mimetype": "text/x-python",
   "name": "python",
   "nbconvert_exporter": "python",
   "pygments_lexer": "ipython3",
   "version": "3.8.12"
  },
  "vscode": {
   "interpreter": {
    "hash": "e7370f93d1d0cde622a1f8e1c04877d8463912d04d973331ad4851f04de6915a"
   }
  }
 },
 "nbformat": 4,
 "nbformat_minor": 5
}
